{
  "nbformat": 4,
  "nbformat_minor": 0,
  "metadata": {
    "colab": {
      "name": "premier_league_predictions_v2.ipynb",
      "provenance": [],
      "collapsed_sections": [],
      "toc_visible": true,
      "authorship_tag": "ABX9TyMKSr103jiGyR23qRkvmH3a",
      "include_colab_link": true
    },
    "kernelspec": {
      "name": "python3",
      "display_name": "Python 3"
    },
    "language_info": {
      "name": "python"
    }
  },
  "cells": [
    {
      "cell_type": "markdown",
      "metadata": {
        "id": "view-in-github",
        "colab_type": "text"
      },
      "source": [
        "<a href=\"https://colab.research.google.com/github/bbqgonewrong/FootyAnalytics/blob/main/premier_league_predictions_v2.ipynb\" target=\"_parent\"><img src=\"https://colab.research.google.com/assets/colab-badge.svg\" alt=\"Open In Colab\"/></a>"
      ]
    },
    {
      "cell_type": "code",
      "execution_count": 67,
      "metadata": {
        "id": "WkBNiKf3gaw4"
      },
      "outputs": [],
      "source": [
        "import pandas as pd\n",
        "import numpy as np\n",
        "import requests\n",
        "from bs4 import BeautifulSoup\n",
        "import time\n",
        "from sklearn.ensemble import RandomForestClassifier\n",
        "from sklearn.metrics import accuracy_score,precision_score"
      ]
    },
    {
      "cell_type": "code",
      "source": [
        "standings_url = 'https://fbref.com/en/comps/9/Premier-League-Stats'"
      ],
      "metadata": {
        "id": "brgV3zllghdH"
      },
      "execution_count": 2,
      "outputs": []
    },
    {
      "cell_type": "code",
      "source": [
        "data = requests.get(standings_url)"
      ],
      "metadata": {
        "id": "3WGd1be2gy-w"
      },
      "execution_count": 4,
      "outputs": []
    },
    {
      "cell_type": "code",
      "source": [
        "soup = BeautifulSoup(data.text)"
      ],
      "metadata": {
        "id": "m4_O_-GQg8UZ"
      },
      "execution_count": 8,
      "outputs": []
    },
    {
      "cell_type": "code",
      "source": [
        "standings_table = soup.select('table.stats_table')[0]"
      ],
      "metadata": {
        "id": "BvuqlC4qhXT4"
      },
      "execution_count": 10,
      "outputs": []
    },
    {
      "cell_type": "code",
      "source": [
        "links = standings_table.find_all('a')"
      ],
      "metadata": {
        "id": "Pm0lS5ifCsct"
      },
      "execution_count": 11,
      "outputs": []
    },
    {
      "cell_type": "code",
      "source": [
        "links = [l.get('href') for l in links]"
      ],
      "metadata": {
        "id": "nQKOXwEtC4-6"
      },
      "execution_count": 13,
      "outputs": []
    },
    {
      "cell_type": "code",
      "source": [
        "links = [l for l in links if '/squads/' in l]"
      ],
      "metadata": {
        "id": "_Pqq6pC-DP6z"
      },
      "execution_count": 15,
      "outputs": []
    },
    {
      "cell_type": "code",
      "source": [
        "team_urls = [f\"https://fbref.com{l}\" for l in links]"
      ],
      "metadata": {
        "id": "_VAbi65NDbhT"
      },
      "execution_count": 31,
      "outputs": []
    },
    {
      "cell_type": "code",
      "source": [
        "team_urls\n",
        "#https://fbref.com/en/squads/b8fd03ef/Manchester-City-Stats"
      ],
      "metadata": {
        "id": "RkNn4UoTEQTm"
      },
      "execution_count": null,
      "outputs": []
    },
    {
      "cell_type": "code",
      "source": [
        "team_url = team_urls[0]\n",
        "data = requests.get(team_url)\n",
        "data.text"
      ],
      "metadata": {
        "id": "9wm9rJtuDrbe"
      },
      "execution_count": null,
      "outputs": []
    },
    {
      "cell_type": "code",
      "source": [
        "matches = pd.read_html(data.text,match = 'Scores & Fixtures')"
      ],
      "metadata": {
        "id": "nEbvKtEcHzpe"
      },
      "execution_count": 35,
      "outputs": []
    },
    {
      "cell_type": "code",
      "source": [
        "matches = matches[0]"
      ],
      "metadata": {
        "id": "qtFNk5WHIOdo"
      },
      "execution_count": 65,
      "outputs": []
    },
    {
      "cell_type": "code",
      "source": [
        "soup = BeautifulSoup(data.text)\n",
        "links = soup.find_all('a')\n",
        "links = [l.get('href') for l in links]\n",
        "links = [l for l in links if l and 'all_comps/shooting' in l]\n",
        "data = requests.get(f'https://fbref.com{links[0]}')"
      ],
      "metadata": {
        "id": "UeDST_UYIsCy"
      },
      "execution_count": 41,
      "outputs": []
    },
    {
      "cell_type": "code",
      "source": [
        "data.text"
      ],
      "metadata": {
        "id": "J2TaXfAlJkQC"
      },
      "execution_count": null,
      "outputs": []
    },
    {
      "cell_type": "code",
      "source": [
        "shooting = pd.read_html(data.text,match='Shooting')[0]"
      ],
      "metadata": {
        "id": "B03DUTx5JSgT"
      },
      "execution_count": 57,
      "outputs": []
    },
    {
      "cell_type": "code",
      "source": [
        "shooting.head()"
      ],
      "metadata": {
        "id": "J03oQIcfJuY4"
      },
      "execution_count": null,
      "outputs": []
    },
    {
      "cell_type": "code",
      "source": [
        "shooting.columns = shooting.columns.droplevel()"
      ],
      "metadata": {
        "id": "VXrZi_gfKNYa"
      },
      "execution_count": 58,
      "outputs": []
    },
    {
      "cell_type": "code",
      "source": [
        "type(matches),type(shooting)"
      ],
      "metadata": {
        "colab": {
          "base_uri": "https://localhost:8080/"
        },
        "id": "YGagrEYuLNkJ",
        "outputId": "f3aaaa98-81d7-4676-e909-8f407b6518fd"
      },
      "execution_count": 63,
      "outputs": [
        {
          "output_type": "execute_result",
          "data": {
            "text/plain": [
              "(list, pandas.core.frame.DataFrame)"
            ]
          },
          "metadata": {},
          "execution_count": 63
        }
      ]
    },
    {
      "cell_type": "code",
      "source": [
        "#Joining the two tables\n",
        "\n",
        "team_data = matches.merge(shooting[['Date','Sh','SoT','Dist','FK','PK','PKatt']],on = 'Date')"
      ],
      "metadata": {
        "id": "EfcKewA3Gsgy"
      },
      "execution_count": 66,
      "outputs": []
    },
    {
      "cell_type": "code",
      "source": [
        "team_data.shape,matches.shape,shooting.shape"
      ],
      "metadata": {
        "colab": {
          "base_uri": "https://localhost:8080/"
        },
        "id": "DiRbzgHUHKgo",
        "outputId": "8f2dd1d0-2a23-44f1-ee16-91bd02740c4f"
      },
      "execution_count": 69,
      "outputs": [
        {
          "output_type": "execute_result",
          "data": {
            "text/plain": [
              "((58, 25), (58, 19), (59, 26))"
            ]
          },
          "metadata": {},
          "execution_count": 69
        }
      ]
    },
    {
      "cell_type": "code",
      "source": [
        "years = list(range(2022,2020,-1))"
      ],
      "metadata": {
        "id": "SXmK6gzLiuhd"
      },
      "execution_count": 72,
      "outputs": []
    },
    {
      "cell_type": "code",
      "source": [
        "years"
      ],
      "metadata": {
        "colab": {
          "base_uri": "https://localhost:8080/"
        },
        "id": "2sCUVylOMatb",
        "outputId": "64996bba-f3b6-48ea-da9d-6301b358bd42"
      },
      "execution_count": 73,
      "outputs": [
        {
          "output_type": "execute_result",
          "data": {
            "text/plain": [
              "[2022, 2021]"
            ]
          },
          "metadata": {},
          "execution_count": 73
        }
      ]
    },
    {
      "cell_type": "code",
      "source": [
        "all_matches = []"
      ],
      "metadata": {
        "id": "U4-bJoj4Mctj"
      },
      "execution_count": 74,
      "outputs": []
    },
    {
      "cell_type": "code",
      "source": [
        ""
      ],
      "metadata": {
        "id": "a6GkTspDPdWB"
      },
      "execution_count": null,
      "outputs": []
    },
    {
      "cell_type": "code",
      "source": [
        ""
      ],
      "metadata": {
        "id": "gWVETrNVPdP_"
      },
      "execution_count": null,
      "outputs": []
    },
    {
      "cell_type": "markdown",
      "source": [
        "#Creating the formal loop for scraping shooting data and team stats in a single loop"
      ],
      "metadata": {
        "id": "A16xJAgcPf07"
      }
    },
    {
      "cell_type": "code",
      "source": [
        "for year in years:\n",
        "  data = requests.get(standings_url)\n",
        "  soup = BeautifulSoup(data.text)\n",
        "  standings_table = soup.select('table.stats_table')[0]\n",
        "  links = [l.get('href') for l in standings_table.find_all('a')]\n",
        "  links = [l for l in links if '/squads/' in l]\n",
        "  team_urls = [f'https://fbref.com{l}' for l in links]\n",
        "\n",
        "  #Getting statistics for the previous season \n",
        "  previous_season = soup.select('a.prev')[0].get('href')\n",
        "  standings_url = f'https://fbref.com/{previous_season}'\n",
        "\n",
        "  for team_url in team_urls:\n",
        "    team_name = team_url.split('/')[-1].replace('-Stats','').replace('-','')\n",
        "\n",
        "    data = requests.get(team_url)\n",
        "    matches = pd.read_html(data.text,match = 'Scores & Fixtures')[0]\n",
        "\n",
        "    soup = BeautifulSoup(data.text)\n",
        "    links = [l.get('href') for l in soup.find_all('a')]\n",
        "    links = [l for l in links if l and 'all_comps/shooting' in l]\n",
        "    data = requests.get(f'https://fbref.com{links[0]}')\n",
        "    shooting = pd.read_html(data.text,match='Shooting')[0]\n",
        "    shooting.columns = shooting.columns.droplevel()\n",
        "    try:\n",
        "      team_data = matches.merge(shooting[['Date','Sh','SoT','Dist','FK','PK','PKatt']],on='Date')\n",
        "    except ValueError:\n",
        "      continue\n",
        "    team_data = team_data[team_data['Comp']=='Premier League']\n",
        "    team_data['Season'] = year\n",
        "    team_data['Team'] = team_name\n",
        "    all_matches.append(team_data)\n",
        "    time.sleep(1) #Allow organic website traffic\n",
        "  "
      ],
      "metadata": {
        "id": "fIbpQyQ3i2qO"
      },
      "execution_count": 78,
      "outputs": []
    },
    {
      "cell_type": "code",
      "source": [
        "match_df = pd.concat(all_matches)\n",
        "match_df.columns = [c.lower() for c in match_df.columns]\n",
        "match_df.to_csv('matches.csv')"
      ],
      "metadata": {
        "id": "n7CWx_IKQXZn"
      },
      "execution_count": 79,
      "outputs": []
    },
    {
      "cell_type": "code",
      "source": [
        "from google.colab import files\n",
        "files.download('matches.csv')"
      ],
      "metadata": {
        "colab": {
          "base_uri": "https://localhost:8080/",
          "height": 17
        },
        "id": "ux4S1PUni6nj",
        "outputId": "ac5304ae-40e9-477a-c76f-95a61f3858da"
      },
      "execution_count": 81,
      "outputs": [
        {
          "output_type": "display_data",
          "data": {
            "text/plain": [
              "<IPython.core.display.Javascript object>"
            ],
            "application/javascript": [
              "\n",
              "    async function download(id, filename, size) {\n",
              "      if (!google.colab.kernel.accessAllowed) {\n",
              "        return;\n",
              "      }\n",
              "      const div = document.createElement('div');\n",
              "      const label = document.createElement('label');\n",
              "      label.textContent = `Downloading \"${filename}\": `;\n",
              "      div.appendChild(label);\n",
              "      const progress = document.createElement('progress');\n",
              "      progress.max = size;\n",
              "      div.appendChild(progress);\n",
              "      document.body.appendChild(div);\n",
              "\n",
              "      const buffers = [];\n",
              "      let downloaded = 0;\n",
              "\n",
              "      const channel = await google.colab.kernel.comms.open(id);\n",
              "      // Send a message to notify the kernel that we're ready.\n",
              "      channel.send({})\n",
              "\n",
              "      for await (const message of channel.messages) {\n",
              "        // Send a message to notify the kernel that we're ready.\n",
              "        channel.send({})\n",
              "        if (message.buffers) {\n",
              "          for (const buffer of message.buffers) {\n",
              "            buffers.push(buffer);\n",
              "            downloaded += buffer.byteLength;\n",
              "            progress.value = downloaded;\n",
              "          }\n",
              "        }\n",
              "      }\n",
              "      const blob = new Blob(buffers, {type: 'application/binary'});\n",
              "      const a = document.createElement('a');\n",
              "      a.href = window.URL.createObjectURL(blob);\n",
              "      a.download = filename;\n",
              "      div.appendChild(a);\n",
              "      a.click();\n",
              "      div.remove();\n",
              "    }\n",
              "  "
            ]
          },
          "metadata": {}
        },
        {
          "output_type": "display_data",
          "data": {
            "text/plain": [
              "<IPython.core.display.Javascript object>"
            ],
            "application/javascript": [
              "download(\"download_d0e9b0b5-8369-4084-9626-fb980f70ee53\", \"matches.csv\", 284107)"
            ]
          },
          "metadata": {}
        }
      ]
    },
    {
      "cell_type": "markdown",
      "source": [
        "#Calculating the match winner from the data created"
      ],
      "metadata": {
        "id": "I11EOgIkGdng"
      }
    },
    {
      "cell_type": "code",
      "source": [
        "matches = pd.read_csv('matches.csv',index_col = 0)"
      ],
      "metadata": {
        "id": "T6k4zgKGFL74"
      },
      "execution_count": 2,
      "outputs": []
    },
    {
      "cell_type": "code",
      "source": [
        "matches.comp.unique()"
      ],
      "metadata": {
        "colab": {
          "base_uri": "https://localhost:8080/"
        },
        "id": "G2QlUcp8FnRC",
        "outputId": "bca23972-8233-4034-98ac-f27947ce7ae9"
      },
      "execution_count": 7,
      "outputs": [
        {
          "output_type": "execute_result",
          "data": {
            "text/plain": [
              "array(['Premier League'], dtype=object)"
            ]
          },
          "metadata": {},
          "execution_count": 7
        }
      ]
    },
    {
      "cell_type": "code",
      "source": [
        "matches.shape"
      ],
      "metadata": {
        "colab": {
          "base_uri": "https://localhost:8080/"
        },
        "id": "sRWbFv2-FqRY",
        "outputId": "c747b56a-b4c6-4155-9a23-0ffc29f3d43e"
      },
      "execution_count": 5,
      "outputs": [
        {
          "output_type": "execute_result",
          "data": {
            "text/plain": [
              "(1558, 27)"
            ]
          },
          "metadata": {},
          "execution_count": 5
        }
      ]
    },
    {
      "cell_type": "code",
      "source": [
        "matches['team'].value_counts()"
      ],
      "metadata": {
        "id": "eS5tRQbcFxjB"
      },
      "execution_count": null,
      "outputs": []
    },
    {
      "cell_type": "code",
      "source": [
        "liv_matches = matches[matches['team']=='Liverpool']"
      ],
      "metadata": {
        "id": "tyoqMTurGbQe"
      },
      "execution_count": 18,
      "outputs": []
    },
    {
      "cell_type": "code",
      "source": [
        "matches['round'].value_counts()"
      ],
      "metadata": {
        "id": "oUSRp5-4HGjl"
      },
      "execution_count": null,
      "outputs": []
    },
    {
      "cell_type": "code",
      "source": [
        "matches.dtypes"
      ],
      "metadata": {
        "id": "ySBQttjrIEw4"
      },
      "execution_count": null,
      "outputs": []
    },
    {
      "cell_type": "code",
      "source": [
        "#Covert datetime from object to datetime\n",
        "matches['date'] = pd.to_datetime(matches['date'])"
      ],
      "metadata": {
        "id": "3PvKkeVDIMr-"
      },
      "execution_count": 22,
      "outputs": []
    },
    {
      "cell_type": "code",
      "source": [
        "matches"
      ],
      "metadata": {
        "id": "BTK22bTAIaol"
      },
      "execution_count": null,
      "outputs": []
    },
    {
      "cell_type": "markdown",
      "source": [
        "#Creating a few basic predictors"
      ],
      "metadata": {
        "id": "ReMI-ZxEIgIY"
      }
    },
    {
      "cell_type": "code",
      "source": [
        "#Convert home and away into tokens\n",
        "matches['venue_code'] = matches['venue'].astype('category').cat.codes"
      ],
      "metadata": {
        "id": "58TYz4fuIfna"
      },
      "execution_count": 25,
      "outputs": []
    },
    {
      "cell_type": "code",
      "source": [
        "matches['opp_code'] = matches['opponent'].astype('category').cat.codes"
      ],
      "metadata": {
        "id": "6SqaXFEEI7OM"
      },
      "execution_count": 30,
      "outputs": []
    },
    {
      "cell_type": "code",
      "source": [
        "matches['hour'] = matches['time'].str.replace(':.+','',regex=True).astype('int')"
      ],
      "metadata": {
        "id": "ftngRfvFJJpo"
      },
      "execution_count": 31,
      "outputs": []
    },
    {
      "cell_type": "code",
      "source": [
        "matches['day_code'] = matches['date'].dt.dayofweek"
      ],
      "metadata": {
        "id": "mVQVs17EJgws"
      },
      "execution_count": 33,
      "outputs": []
    },
    {
      "cell_type": "code",
      "source": [
        "#Combines L and D as a single unit. Can try to change this around\n",
        "matches['target'] = (matches['result']=='W').astype('int')"
      ],
      "metadata": {
        "id": "dnEpMkAoJswi"
      },
      "execution_count": 37,
      "outputs": []
    },
    {
      "cell_type": "markdown",
      "source": [
        "#Defining a Random Forest Classifier"
      ],
      "metadata": {
        "id": "ZfKVo1kqKdkZ"
      }
    },
    {
      "cell_type": "code",
      "source": [
        "rf = RandomForestClassifier(n_estimators=50,min_samples_split=10,random_state=42)"
      ],
      "metadata": {
        "id": "IH2XNPR4KHzx"
      },
      "execution_count": 52,
      "outputs": []
    },
    {
      "cell_type": "code",
      "source": [
        "train = matches[matches['date']<'2021-01-01']"
      ],
      "metadata": {
        "id": "HkuMeyWHK0iO"
      },
      "execution_count": 53,
      "outputs": []
    },
    {
      "cell_type": "code",
      "source": [
        "test = matches[matches['date']>'2021-01-01']"
      ],
      "metadata": {
        "id": "k50oxJi3K9Jd"
      },
      "execution_count": 54,
      "outputs": []
    },
    {
      "cell_type": "code",
      "source": [
        "predictors = ['venue_code','opp_code','hour','day_code']"
      ],
      "metadata": {
        "id": "_wAGyr1KLBWI"
      },
      "execution_count": 55,
      "outputs": []
    },
    {
      "cell_type": "code",
      "source": [
        "rf.fit(train[predictors],train['target'])"
      ],
      "metadata": {
        "colab": {
          "base_uri": "https://localhost:8080/"
        },
        "id": "aCv4PxeELIIH",
        "outputId": "34ec3448-0481-44d7-8232-bd34a8e0a051"
      },
      "execution_count": 56,
      "outputs": [
        {
          "output_type": "execute_result",
          "data": {
            "text/plain": [
              "RandomForestClassifier(min_samples_split=10, n_estimators=50, random_state=42)"
            ]
          },
          "metadata": {},
          "execution_count": 56
        }
      ]
    },
    {
      "cell_type": "code",
      "source": [
        "len(train),len(test)"
      ],
      "metadata": {
        "colab": {
          "base_uri": "https://localhost:8080/"
        },
        "id": "xxt5ELyOLbl7",
        "outputId": "f583c01d-4349-4c5c-df9b-f8569fa11008"
      },
      "execution_count": 57,
      "outputs": [
        {
          "output_type": "execute_result",
          "data": {
            "text/plain": [
              "(1534, 24)"
            ]
          },
          "metadata": {},
          "execution_count": 57
        }
      ]
    },
    {
      "cell_type": "code",
      "source": [
        "preds = rf.predict(test[predictors])"
      ],
      "metadata": {
        "id": "eyW_02g4LO4W"
      },
      "execution_count": 58,
      "outputs": []
    },
    {
      "cell_type": "code",
      "source": [
        "preds"
      ],
      "metadata": {
        "colab": {
          "base_uri": "https://localhost:8080/"
        },
        "id": "vspr7ubdL1O5",
        "outputId": "0e9f5cd6-f214-43e9-e2ee-3407cd4bbd33"
      },
      "execution_count": 59,
      "outputs": [
        {
          "output_type": "execute_result",
          "data": {
            "text/plain": [
              "array([0, 0, 0, 0, 0, 0, 0, 0, 0, 0, 0, 0, 1, 1, 0, 1, 1, 1, 0, 0, 1, 0,\n",
              "       1, 1])"
            ]
          },
          "metadata": {},
          "execution_count": 59
        }
      ]
    },
    {
      "cell_type": "markdown",
      "source": [
        "##Adding accuracy to the predictions"
      ],
      "metadata": {
        "id": "6Fz4G1-sNpk-"
      }
    },
    {
      "cell_type": "code",
      "source": [
        "accuracy = accuracy_score(test['target'],preds)"
      ],
      "metadata": {
        "id": "aKSsHMfjL0ke"
      },
      "execution_count": 60,
      "outputs": []
    },
    {
      "cell_type": "code",
      "source": [
        "accuracy"
      ],
      "metadata": {
        "colab": {
          "base_uri": "https://localhost:8080/"
        },
        "id": "C7eMrnVNMFs6",
        "outputId": "8bc33a7d-e78c-4ea0-fcac-9be13c280d74"
      },
      "execution_count": 61,
      "outputs": [
        {
          "output_type": "execute_result",
          "data": {
            "text/plain": [
              "0.16666666666666666"
            ]
          },
          "metadata": {},
          "execution_count": 61
        }
      ]
    },
    {
      "cell_type": "code",
      "source": [
        "combined = pd.DataFrame(dict(actual = test['target'],predictions=preds))"
      ],
      "metadata": {
        "id": "RdvrzquTMJtA"
      },
      "execution_count": 64,
      "outputs": []
    },
    {
      "cell_type": "code",
      "source": [
        "combined"
      ],
      "metadata": {
        "id": "LaOL2XmgMk_J"
      },
      "execution_count": null,
      "outputs": []
    },
    {
      "cell_type": "code",
      "source": [
        "pd.crosstab(index=combined['actual'],columns = combined['predictions'])"
      ],
      "metadata": {
        "id": "hPUZ2KarMR68"
      },
      "execution_count": null,
      "outputs": []
    },
    {
      "cell_type": "markdown",
      "source": [
        "##Adding precision to the predictions"
      ],
      "metadata": {
        "id": "v46FRM_uNeJA"
      }
    },
    {
      "cell_type": "code",
      "source": [
        "precision_score(test['target'],preds)"
      ],
      "metadata": {
        "id": "J9qqL44LM6qE"
      },
      "execution_count": null,
      "outputs": []
    },
    {
      "cell_type": "markdown",
      "source": [
        "#Creating rolling average metrics"
      ],
      "metadata": {
        "id": "aELvla2ZNs65"
      }
    },
    {
      "cell_type": "code",
      "source": [
        "grouped_matches = matches.groupby('team')"
      ],
      "metadata": {
        "id": "GWmMb70nNV3E"
      },
      "execution_count": 69,
      "outputs": []
    },
    {
      "cell_type": "code",
      "source": [
        "group = grouped_matches.get_group('ManchesterCity')"
      ],
      "metadata": {
        "id": "ACEcmFhcNcGr"
      },
      "execution_count": 71,
      "outputs": []
    },
    {
      "cell_type": "code",
      "source": [
        "group"
      ],
      "metadata": {
        "id": "rj-yQMEnQojd"
      },
      "execution_count": null,
      "outputs": []
    },
    {
      "cell_type": "code",
      "source": [
        "def rolling_averages(group,cols,new_cols):\n",
        "  group = group.sort_values('date')\n",
        "  rolling_stats = group[cols].rolling(3,closed='left').mean()\n",
        "  #Closed left allows the rolling average not to be calculated for the present week\n",
        "  group[new_cols] = rolling_stats\n",
        "  group = group.dropna(subset=new_cols)\n",
        "  return group\n"
      ],
      "metadata": {
        "id": "xsapqdbBQvyz"
      },
      "execution_count": 73,
      "outputs": []
    },
    {
      "cell_type": "code",
      "source": [
        "cols = ['gf','ga','sh','sot','dist','fk','pk','pkatt']\n",
        "new_cols = [f'{c}_rolling' for c in cols]"
      ],
      "metadata": {
        "id": "VlqQzVQ7Rkec"
      },
      "execution_count": 74,
      "outputs": []
    },
    {
      "cell_type": "code",
      "source": [
        "new_cols"
      ],
      "metadata": {
        "colab": {
          "base_uri": "https://localhost:8080/"
        },
        "id": "jo8wrsHoR1yx",
        "outputId": "7da4f912-a0d1-458c-aee5-ea28be9ecd4e"
      },
      "execution_count": 75,
      "outputs": [
        {
          "output_type": "execute_result",
          "data": {
            "text/plain": [
              "['gf_rolling',\n",
              " 'ga_rolling',\n",
              " 'sh_rolling',\n",
              " 'sot_rolling',\n",
              " 'dist_rolling',\n",
              " 'fk_rolling',\n",
              " 'pk_rolling',\n",
              " 'pkatt_rolling']"
            ]
          },
          "metadata": {},
          "execution_count": 75
        }
      ]
    },
    {
      "cell_type": "code",
      "source": [
        "rolling_averages(group,cols,new_cols)"
      ],
      "metadata": {
        "id": "YB6P_XNQR4lz"
      },
      "execution_count": null,
      "outputs": []
    },
    {
      "cell_type": "code",
      "source": [
        "matches_rolling = matches.groupby('team').apply(lambda x:rolling_averages(x,cols,new_cols))"
      ],
      "metadata": {
        "id": "Cs0O_km9SJcY"
      },
      "execution_count": 78,
      "outputs": []
    },
    {
      "cell_type": "code",
      "source": [
        "matches_rolling"
      ],
      "metadata": {
        "id": "m4ZtIvgMSXQg"
      },
      "execution_count": null,
      "outputs": []
    },
    {
      "cell_type": "code",
      "source": [
        "matches_rolling = matches_rolling.droplevel('team')"
      ],
      "metadata": {
        "id": "A6FDRWoYShiO"
      },
      "execution_count": 80,
      "outputs": []
    },
    {
      "cell_type": "code",
      "source": [
        "matches_rolling.index = range(matches_rolling.shape[0])"
      ],
      "metadata": {
        "id": "liVj2twgSwkT"
      },
      "execution_count": 82,
      "outputs": []
    },
    {
      "cell_type": "code",
      "source": [
        "def make_predictions(data,predictors):\n",
        "  train = data[data['date'] < '2020-06-10']\n",
        "  test = data[data['date'] > '2020-06-10']\n",
        "  rf.fit(train[predictors],train['target'])\n",
        "  preds = rf.predict(test[predictors])\n",
        "  combined = pd.DataFrame(dict(actual = test['target'],predictions = preds),index = test.index)\n",
        "  precision = precision_score(test['target'],preds)\n",
        "  return combined,precision\n"
      ],
      "metadata": {
        "id": "y7m5gGb7S3Oc"
      },
      "execution_count": 131,
      "outputs": []
    },
    {
      "cell_type": "code",
      "source": [
        "cols_preds = predictors+new_cols"
      ],
      "metadata": {
        "id": "_5-KQxYbUcH-"
      },
      "execution_count": 132,
      "outputs": []
    },
    {
      "cell_type": "code",
      "source": [
        "train[predictors]"
      ],
      "metadata": {
        "colab": {
          "base_uri": "https://localhost:8080/",
          "height": 424
        },
        "id": "Ab3j-TewUtNG",
        "outputId": "deebcf35-3bb3-4d14-aa73-a5841ae4bf62"
      },
      "execution_count": 133,
      "outputs": [
        {
          "output_type": "execute_result",
          "data": {
            "text/plain": [
              "    venue_code  opp_code  hour  day_code\n",
              "0            0        24    20         0\n",
              "2            1        12    16         6\n",
              "4            0        11    17         5\n",
              "5            1         0    17         5\n",
              "7            0        23    12         5\n",
              "..         ...       ...   ...       ...\n",
              "35           0        20    12         5\n",
              "36           1        21    15         5\n",
              "37           0        13    20         4\n",
              "38           1        15    14         6\n",
              "39           0        19    15         6\n",
              "\n",
              "[1534 rows x 4 columns]"
            ],
            "text/html": [
              "\n",
              "  <div id=\"df-e5a01c0c-d836-47a1-baca-960a6f0203fe\">\n",
              "    <div class=\"colab-df-container\">\n",
              "      <div>\n",
              "<style scoped>\n",
              "    .dataframe tbody tr th:only-of-type {\n",
              "        vertical-align: middle;\n",
              "    }\n",
              "\n",
              "    .dataframe tbody tr th {\n",
              "        vertical-align: top;\n",
              "    }\n",
              "\n",
              "    .dataframe thead th {\n",
              "        text-align: right;\n",
              "    }\n",
              "</style>\n",
              "<table border=\"1\" class=\"dataframe\">\n",
              "  <thead>\n",
              "    <tr style=\"text-align: right;\">\n",
              "      <th></th>\n",
              "      <th>venue_code</th>\n",
              "      <th>opp_code</th>\n",
              "      <th>hour</th>\n",
              "      <th>day_code</th>\n",
              "    </tr>\n",
              "  </thead>\n",
              "  <tbody>\n",
              "    <tr>\n",
              "      <th>0</th>\n",
              "      <td>0</td>\n",
              "      <td>24</td>\n",
              "      <td>20</td>\n",
              "      <td>0</td>\n",
              "    </tr>\n",
              "    <tr>\n",
              "      <th>2</th>\n",
              "      <td>1</td>\n",
              "      <td>12</td>\n",
              "      <td>16</td>\n",
              "      <td>6</td>\n",
              "    </tr>\n",
              "    <tr>\n",
              "      <th>4</th>\n",
              "      <td>0</td>\n",
              "      <td>11</td>\n",
              "      <td>17</td>\n",
              "      <td>5</td>\n",
              "    </tr>\n",
              "    <tr>\n",
              "      <th>5</th>\n",
              "      <td>1</td>\n",
              "      <td>0</td>\n",
              "      <td>17</td>\n",
              "      <td>5</td>\n",
              "    </tr>\n",
              "    <tr>\n",
              "      <th>7</th>\n",
              "      <td>0</td>\n",
              "      <td>23</td>\n",
              "      <td>12</td>\n",
              "      <td>5</td>\n",
              "    </tr>\n",
              "    <tr>\n",
              "      <th>...</th>\n",
              "      <td>...</td>\n",
              "      <td>...</td>\n",
              "      <td>...</td>\n",
              "      <td>...</td>\n",
              "    </tr>\n",
              "    <tr>\n",
              "      <th>35</th>\n",
              "      <td>0</td>\n",
              "      <td>20</td>\n",
              "      <td>12</td>\n",
              "      <td>5</td>\n",
              "    </tr>\n",
              "    <tr>\n",
              "      <th>36</th>\n",
              "      <td>1</td>\n",
              "      <td>21</td>\n",
              "      <td>15</td>\n",
              "      <td>5</td>\n",
              "    </tr>\n",
              "    <tr>\n",
              "      <th>37</th>\n",
              "      <td>0</td>\n",
              "      <td>13</td>\n",
              "      <td>20</td>\n",
              "      <td>4</td>\n",
              "    </tr>\n",
              "    <tr>\n",
              "      <th>38</th>\n",
              "      <td>1</td>\n",
              "      <td>15</td>\n",
              "      <td>14</td>\n",
              "      <td>6</td>\n",
              "    </tr>\n",
              "    <tr>\n",
              "      <th>39</th>\n",
              "      <td>0</td>\n",
              "      <td>19</td>\n",
              "      <td>15</td>\n",
              "      <td>6</td>\n",
              "    </tr>\n",
              "  </tbody>\n",
              "</table>\n",
              "<p>1534 rows × 4 columns</p>\n",
              "</div>\n",
              "      <button class=\"colab-df-convert\" onclick=\"convertToInteractive('df-e5a01c0c-d836-47a1-baca-960a6f0203fe')\"\n",
              "              title=\"Convert this dataframe to an interactive table.\"\n",
              "              style=\"display:none;\">\n",
              "        \n",
              "  <svg xmlns=\"http://www.w3.org/2000/svg\" height=\"24px\"viewBox=\"0 0 24 24\"\n",
              "       width=\"24px\">\n",
              "    <path d=\"M0 0h24v24H0V0z\" fill=\"none\"/>\n",
              "    <path d=\"M18.56 5.44l.94 2.06.94-2.06 2.06-.94-2.06-.94-.94-2.06-.94 2.06-2.06.94zm-11 1L8.5 8.5l.94-2.06 2.06-.94-2.06-.94L8.5 2.5l-.94 2.06-2.06.94zm10 10l.94 2.06.94-2.06 2.06-.94-2.06-.94-.94-2.06-.94 2.06-2.06.94z\"/><path d=\"M17.41 7.96l-1.37-1.37c-.4-.4-.92-.59-1.43-.59-.52 0-1.04.2-1.43.59L10.3 9.45l-7.72 7.72c-.78.78-.78 2.05 0 2.83L4 21.41c.39.39.9.59 1.41.59.51 0 1.02-.2 1.41-.59l7.78-7.78 2.81-2.81c.8-.78.8-2.07 0-2.86zM5.41 20L4 18.59l7.72-7.72 1.47 1.35L5.41 20z\"/>\n",
              "  </svg>\n",
              "      </button>\n",
              "      \n",
              "  <style>\n",
              "    .colab-df-container {\n",
              "      display:flex;\n",
              "      flex-wrap:wrap;\n",
              "      gap: 12px;\n",
              "    }\n",
              "\n",
              "    .colab-df-convert {\n",
              "      background-color: #E8F0FE;\n",
              "      border: none;\n",
              "      border-radius: 50%;\n",
              "      cursor: pointer;\n",
              "      display: none;\n",
              "      fill: #1967D2;\n",
              "      height: 32px;\n",
              "      padding: 0 0 0 0;\n",
              "      width: 32px;\n",
              "    }\n",
              "\n",
              "    .colab-df-convert:hover {\n",
              "      background-color: #E2EBFA;\n",
              "      box-shadow: 0px 1px 2px rgba(60, 64, 67, 0.3), 0px 1px 3px 1px rgba(60, 64, 67, 0.15);\n",
              "      fill: #174EA6;\n",
              "    }\n",
              "\n",
              "    [theme=dark] .colab-df-convert {\n",
              "      background-color: #3B4455;\n",
              "      fill: #D2E3FC;\n",
              "    }\n",
              "\n",
              "    [theme=dark] .colab-df-convert:hover {\n",
              "      background-color: #434B5C;\n",
              "      box-shadow: 0px 1px 3px 1px rgba(0, 0, 0, 0.15);\n",
              "      filter: drop-shadow(0px 1px 2px rgba(0, 0, 0, 0.3));\n",
              "      fill: #FFFFFF;\n",
              "    }\n",
              "  </style>\n",
              "\n",
              "      <script>\n",
              "        const buttonEl =\n",
              "          document.querySelector('#df-e5a01c0c-d836-47a1-baca-960a6f0203fe button.colab-df-convert');\n",
              "        buttonEl.style.display =\n",
              "          google.colab.kernel.accessAllowed ? 'block' : 'none';\n",
              "\n",
              "        async function convertToInteractive(key) {\n",
              "          const element = document.querySelector('#df-e5a01c0c-d836-47a1-baca-960a6f0203fe');\n",
              "          const dataTable =\n",
              "            await google.colab.kernel.invokeFunction('convertToInteractive',\n",
              "                                                     [key], {});\n",
              "          if (!dataTable) return;\n",
              "\n",
              "          const docLinkHtml = 'Like what you see? Visit the ' +\n",
              "            '<a target=\"_blank\" href=https://colab.research.google.com/notebooks/data_table.ipynb>data table notebook</a>'\n",
              "            + ' to learn more about interactive tables.';\n",
              "          element.innerHTML = '';\n",
              "          dataTable['output_type'] = 'display_data';\n",
              "          await google.colab.output.renderOutput(dataTable, element);\n",
              "          const docLink = document.createElement('div');\n",
              "          docLink.innerHTML = docLinkHtml;\n",
              "          element.appendChild(docLink);\n",
              "        }\n",
              "      </script>\n",
              "    </div>\n",
              "  </div>\n",
              "  "
            ]
          },
          "metadata": {},
          "execution_count": 133
        }
      ]
    },
    {
      "cell_type": "code",
      "source": [
        "combined,precision = make_predictions(matches_rolling,cols_preds)"
      ],
      "metadata": {
        "id": "1-7C_Ge9TsWr"
      },
      "execution_count": 134,
      "outputs": []
    },
    {
      "cell_type": "code",
      "source": [
        "combined = combined.merge(matches_rolling[['date','team','opponent','result']],left_index = True,right_index = True)"
      ],
      "metadata": {
        "id": "nBioYJJmUYkJ"
      },
      "execution_count": 135,
      "outputs": []
    },
    {
      "cell_type": "code",
      "source": [
        "len(combined)"
      ],
      "metadata": {
        "colab": {
          "base_uri": "https://localhost:8080/"
        },
        "id": "Q-H5ToAMVgyy",
        "outputId": "79ee4db6-0d77-4f59-80b0-bb7f6b76c928"
      },
      "execution_count": 136,
      "outputs": [
        {
          "output_type": "execute_result",
          "data": {
            "text/plain": [
              "222"
            ]
          },
          "metadata": {},
          "execution_count": 136
        }
      ]
    },
    {
      "cell_type": "markdown",
      "source": [
        "#Combining Home and Away"
      ],
      "metadata": {
        "id": "bbQPg2w3VwB8"
      }
    },
    {
      "cell_type": "markdown",
      "source": [
        "##Creating a class for fuzzy matching exact team names to their vernacular use"
      ],
      "metadata": {
        "id": "C39H2bhLaZ9N"
      }
    },
    {
      "cell_type": "code",
      "source": [
        "class MissingDict(dict):\n",
        "  __missing__ = lambda self,key:key\n",
        "\n",
        "map_values = {\n",
        "    'Brighton and Hove Albion': 'Brighton',\n",
        "    'ManchesterUnited' :'ManchesterUtd',\n",
        "    'NewcastleUnited' : 'NewcastleUtd',\n",
        "    'Tottenham Hotspurs' : 'Tottenham',\n",
        "    'West Ham United' : 'West Ham',\n",
        "    'Wolverhampton Wanderers' : 'Wolves'\n",
        "\n",
        "}\n",
        "mapping = MissingDict(**map_values)"
      ],
      "metadata": {
        "id": "gBYORpScVpdJ"
      },
      "execution_count": 137,
      "outputs": []
    },
    {
      "cell_type": "code",
      "source": [
        "mapping[\"Arsenal\"]"
      ],
      "metadata": {
        "id": "trGs0hW2Wsar"
      },
      "execution_count": null,
      "outputs": []
    },
    {
      "cell_type": "code",
      "source": [
        "combined['new_team'] = combined['team'].map(mapping)"
      ],
      "metadata": {
        "id": "8l9mTfrSXIus"
      },
      "execution_count": 138,
      "outputs": []
    },
    {
      "cell_type": "code",
      "source": [
        "combined"
      ],
      "metadata": {
        "id": "n7pMiRL8XuGq"
      },
      "execution_count": null,
      "outputs": []
    },
    {
      "cell_type": "code",
      "source": [
        "merged = combined.merge(combined,left_on = ['date','new_team'],right_on = ['date','opponent'])"
      ],
      "metadata": {
        "id": "czVZaTz8XUnc"
      },
      "execution_count": 140,
      "outputs": []
    },
    {
      "cell_type": "code",
      "source": [
        "combined['new_team']"
      ],
      "metadata": {
        "id": "9McxKyLfYzdk"
      },
      "execution_count": null,
      "outputs": []
    },
    {
      "cell_type": "code",
      "source": [
        "merged"
      ],
      "metadata": {
        "id": "Y6qM_YaGXmwt"
      },
      "execution_count": null,
      "outputs": []
    },
    {
      "cell_type": "markdown",
      "source": [
        "##Checking the values where one team was predicted to win while the other was predicted to lose or draw"
      ],
      "metadata": {
        "id": "0dnOiVN5bP9t"
      }
    },
    {
      "cell_type": "code",
      "source": [
        "merged[(merged['predictions_x']==1)& (merged['predictions_y']==0)]['actual_x'].value_counts()"
      ],
      "metadata": {
        "id": "pRGV-b_bZbM5"
      },
      "execution_count": null,
      "outputs": []
    },
    {
      "cell_type": "code",
      "source": [
        "9/14"
      ],
      "metadata": {
        "colab": {
          "base_uri": "https://localhost:8080/"
        },
        "id": "t3gLeYjTaGqO",
        "outputId": "4d12de74-cb47-4285-a9bb-fdf4d4e3280d"
      },
      "execution_count": 148,
      "outputs": [
        {
          "output_type": "execute_result",
          "data": {
            "text/plain": [
              "0.6428571428571429"
            ]
          },
          "metadata": {},
          "execution_count": 148
        }
      ]
    }
  ]
}